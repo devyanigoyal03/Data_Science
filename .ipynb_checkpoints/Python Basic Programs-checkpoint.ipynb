{
 "cells": [
  {
   "cell_type": "markdown",
   "id": "867d8f5a-6441-42a3-abc3-429c7e7c304f",
   "metadata": {},
   "source": [
    "# WAP in python to swap two numbers without using third variable"
   ]
  },
  {
   "cell_type": "code",
   "execution_count": 1,
   "id": "8cb2e618-de23-4e8f-9b70-955e5090b78a",
   "metadata": {},
   "outputs": [
    {
     "name": "stdin",
     "output_type": "stream",
     "text": [
      "Enter first number:  2\n",
      "Enter second number:  3\n"
     ]
    },
    {
     "name": "stdout",
     "output_type": "stream",
     "text": [
      "3 2\n"
     ]
    }
   ],
   "source": [
    "a=int(input(\"Enter first number: \"))\n",
    "b=int(input(\"Enter second number: \"))\n",
    "a=a+b\n",
    "b=a-b\n",
    "a= a-b\n",
    "print(a,b)"
   ]
  },
  {
   "cell_type": "markdown",
   "id": "336f32d5-ec8a-4548-b2b5-e448dbf2cb9a",
   "metadata": {},
   "source": [
    "# WAP in python to swap three numbers without using third variable"
   ]
  },
  {
   "cell_type": "code",
   "execution_count": 2,
   "id": "682fbb8f-5617-4f4e-9eec-52b9ebaece13",
   "metadata": {},
   "outputs": [
    {
     "name": "stdin",
     "output_type": "stream",
     "text": [
      "Enter first number:  1\n",
      "Enter second number:  2\n",
      "Enter third number:  3\n"
     ]
    },
    {
     "name": "stdout",
     "output_type": "stream",
     "text": [
      "3 1 2\n"
     ]
    }
   ],
   "source": [
    "# swap value of a in b , b in c and c in a\n",
    "a=int(input(\"Enter first number: \"))\n",
    "b=int(input(\"Enter second number: \"))\n",
    "c=int(input(\"Enter third number: \"))\n",
    "a= a+b+c\n",
    "b= a-(b+c) \n",
    "c= a-(b+c)\n",
    "a= a-(b+c)\n",
    "print(a,b,c)"
   ]
  },
  {
   "cell_type": "markdown",
   "id": "d0ccd6d8-7b1c-4e61-82cd-d7b10309fa5a",
   "metadata": {},
   "source": [
    "# WAP in python to find the sum of digit"
   ]
  },
  {
   "cell_type": "code",
   "execution_count": 3,
   "id": "4a787499-c60b-47a6-bba5-c9e891b519f8",
   "metadata": {},
   "outputs": [
    {
     "name": "stdin",
     "output_type": "stream",
     "text": [
      "Enter digit:  1234\n"
     ]
    },
    {
     "name": "stdout",
     "output_type": "stream",
     "text": [
      "10\n"
     ]
    }
   ],
   "source": [
    "n=int(input(\"Enter digit: \"))\n",
    "sum=0\n",
    "while(n>0):\n",
    "    d=n%10\n",
    "    sum+=d\n",
    "    n=n//10\n",
    "print(sum)"
   ]
  },
  {
   "cell_type": "markdown",
   "id": "91065e48-bbf0-44f2-bbc6-585d95d641b9",
   "metadata": {},
   "source": [
    "# WAP in python to find the count of digit"
   ]
  },
  {
   "cell_type": "code",
   "execution_count": 4,
   "id": "4c93b291-ccc2-4188-aa92-50f668ca66ab",
   "metadata": {},
   "outputs": [
    {
     "name": "stdin",
     "output_type": "stream",
     "text": [
      "Enter digit:  258\n"
     ]
    },
    {
     "name": "stdout",
     "output_type": "stream",
     "text": [
      "3\n"
     ]
    }
   ],
   "source": [
    "n=int(input(\"Enter digit: \"))\n",
    "count=0\n",
    "while(n>0):\n",
    "    d=n%10\n",
    "    count+=1\n",
    "    n=n//10\n",
    "print(count)"
   ]
  },
  {
   "cell_type": "markdown",
   "id": "82376c70-557c-42d4-89df-835f91b52bdf",
   "metadata": {},
   "source": [
    "# WAP in python to reverse of number"
   ]
  },
  {
   "cell_type": "code",
   "execution_count": 5,
   "id": "12503e45-04a4-43f2-8193-987dd874aa5e",
   "metadata": {},
   "outputs": [
    {
     "name": "stdin",
     "output_type": "stream",
     "text": [
      "Enter digit:  2468\n"
     ]
    },
    {
     "name": "stdout",
     "output_type": "stream",
     "text": [
      "8642"
     ]
    }
   ],
   "source": [
    "n=int(input(\"Enter digit: \"))\n",
    "while(n>0):\n",
    "    d=n%10\n",
    "    print(d,end='')\n",
    "    n=n//10"
   ]
  },
  {
   "cell_type": "markdown",
   "id": "6480ed06-d007-4438-bf33-3ef336b829cb",
   "metadata": {},
   "source": [
    "# WAP in python to reverse of number"
   ]
  },
  {
   "cell_type": "code",
   "execution_count": 6,
   "id": "56ef332d-4ece-41ef-993f-536a5e37713a",
   "metadata": {},
   "outputs": [
    {
     "name": "stdin",
     "output_type": "stream",
     "text": [
      "Enter digit:  5623\n"
     ]
    },
    {
     "name": "stdout",
     "output_type": "stream",
     "text": [
      "3265\n"
     ]
    }
   ],
   "source": [
    "n=int(input(\"Enter digit: \"))\n",
    "rev=0\n",
    "while(n>0):\n",
    "    d=n%10\n",
    "    rev=rev*10+d\n",
    "    n=n//10\n",
    "print(rev)"
   ]
  },
  {
   "cell_type": "markdown",
   "id": "6214ff9a-9102-4f83-95f4-bca6bb2085fc",
   "metadata": {},
   "source": [
    "# WAP in python to product of digit"
   ]
  },
  {
   "cell_type": "code",
   "execution_count": 7,
   "id": "155add03-9e7b-46c3-bc19-d8a78dd18fa4",
   "metadata": {},
   "outputs": [
    {
     "name": "stdin",
     "output_type": "stream",
     "text": [
      "Enter digit:  123\n"
     ]
    },
    {
     "name": "stdout",
     "output_type": "stream",
     "text": [
      "6\n"
     ]
    }
   ],
   "source": [
    "n=int(input(\"Enter digit: \"))\n",
    "prod=1\n",
    "while(n>0):\n",
    "    d=n%10\n",
    "    prod*=d\n",
    "    n=n//10\n",
    "print(prod)"
   ]
  },
  {
   "cell_type": "markdown",
   "id": "658aaad7-8ed0-4096-a64d-38a0edbc83a4",
   "metadata": {},
   "source": [
    "# WAP in python to find that no. is palindrome or not"
   ]
  },
  {
   "cell_type": "code",
   "execution_count": 8,
   "id": "5ec21d55-577e-4a8e-9a21-a4e9b1ef6ea7",
   "metadata": {},
   "outputs": [
    {
     "name": "stdin",
     "output_type": "stream",
     "text": [
      "Enter digit:  1221\n"
     ]
    },
    {
     "name": "stdout",
     "output_type": "stream",
     "text": [
      "Yes! It is a palindrome no.\n"
     ]
    }
   ],
   "source": [
    "n=int(input(\"Enter digit: \"))\n",
    "m=n\n",
    "rev=0\n",
    "while(n>0):\n",
    "    d=n%10\n",
    "    rev=rev*10+d\n",
    "    n=n//10\n",
    "if(m==rev):\n",
    "    print(\"Yes! It is a palindrome no.\")\n",
    "else:\n",
    "    print(\"No! It is not a palindrome no.\")"
   ]
  },
  {
   "cell_type": "markdown",
   "id": "ce954569-bb64-41cf-85ff-ac1716e94e43",
   "metadata": {},
   "source": [
    "# WAP in python to find that no. is Spy number or not\n",
    "spy number - whose sum and product of its digits are equal"
   ]
  },
  {
   "cell_type": "code",
   "execution_count": 15,
   "id": "9f5e1835-1ba0-47af-9e39-9cba8d7a8db0",
   "metadata": {},
   "outputs": [
    {
     "name": "stdin",
     "output_type": "stream",
     "text": [
      "Enter digit:  132\n"
     ]
    },
    {
     "name": "stdout",
     "output_type": "stream",
     "text": [
      "It is Spy no.\n"
     ]
    }
   ],
   "source": [
    "n=int(input(\"Enter digit: \"))\n",
    "sum=0\n",
    "prod=1\n",
    "while(n>0):\n",
    "    d=n%10\n",
    "    sum+=d\n",
    "    prod=prod*d\n",
    "    n=n//10\n",
    "if(sum==prod):\n",
    "    print(\"It is Spy no.\")\n",
    "else:\n",
    "    print(\"It is Not Spy no.\")"
   ]
  },
  {
   "cell_type": "markdown",
   "id": "ba187693-90a8-4a93-8cd4-ac02e1a9b4c0",
   "metadata": {},
   "source": [
    "# WAP in python to find that no. is perfect no. or not\n",
    "a perfect number is a positive integer that is equal to the sum of its positive divisors, not including the number itself."
   ]
  },
  {
   "cell_type": "code",
   "execution_count": 10,
   "id": "57337c9d-2d3d-4ed0-8f15-3173de723a8b",
   "metadata": {},
   "outputs": [
    {
     "name": "stdin",
     "output_type": "stream",
     "text": [
      "Enter digit:  6\n"
     ]
    },
    {
     "name": "stdout",
     "output_type": "stream",
     "text": [
      "perfect no.\n"
     ]
    }
   ],
   "source": [
    "n=int(input(\"Enter digit: \"))\n",
    "f=0\n",
    "for i in range(1,n):\n",
    "    if(n%i==0):\n",
    "        f+=i\n",
    "if(f==n):\n",
    "    print(\"perfect no.\")\n",
    "else:\n",
    "    print(\"not perfect no.\")"
   ]
  },
  {
   "cell_type": "markdown",
   "id": "c67dc844-7f54-4283-b5b8-3b5e106317ea",
   "metadata": {},
   "source": [
    "# WAP in python to find factorial of a no."
   ]
  },
  {
   "cell_type": "code",
   "execution_count": 11,
   "id": "193feade-0bcb-4607-bf28-813541c5b99c",
   "metadata": {},
   "outputs": [
    {
     "name": "stdin",
     "output_type": "stream",
     "text": [
      "Enter digit:  5\n"
     ]
    },
    {
     "name": "stdout",
     "output_type": "stream",
     "text": [
      "120\n"
     ]
    }
   ],
   "source": [
    "n=int(input(\"Enter digit: \"))\n",
    "s=1\n",
    "for i in range(1,n+1):\n",
    "    s*=i\n",
    "print(s)"
   ]
  },
  {
   "cell_type": "markdown",
   "id": "929fca5f-7f4f-4457-bb16-e1b12c644003",
   "metadata": {},
   "source": [
    "# WAP in python to find factorial of a no."
   ]
  },
  {
   "cell_type": "code",
   "execution_count": 12,
   "id": "467b463c-628e-4b9b-990a-4fa64232b699",
   "metadata": {},
   "outputs": [
    {
     "name": "stdin",
     "output_type": "stream",
     "text": [
      "Enter digit:  4\n"
     ]
    },
    {
     "name": "stdout",
     "output_type": "stream",
     "text": [
      "24\n"
     ]
    }
   ],
   "source": [
    "n=int(input(\"Enter digit: \"))\n",
    "s=1\n",
    "while(n>0):\n",
    "    s*=n\n",
    "    n=n-1\n",
    "print(s)"
   ]
  },
  {
   "cell_type": "markdown",
   "id": "88f2d9c4-833d-487a-90d4-e7313f446aaa",
   "metadata": {},
   "source": [
    "# WAP in python to find that no. is strong no. or not\n",
    "a special number whose sum of the factorial of digits is equal to the original number"
   ]
  },
  {
   "cell_type": "code",
   "execution_count": 19,
   "id": "ade8905d-1eba-4feb-b4d4-15ec2ff27618",
   "metadata": {},
   "outputs": [
    {
     "name": "stdin",
     "output_type": "stream",
     "text": [
      "Enter digit:  145\n"
     ]
    },
    {
     "name": "stdout",
     "output_type": "stream",
     "text": [
      "It is Strong no.\n"
     ]
    }
   ],
   "source": [
    "n=int(input(\"Enter digit: \"))\n",
    "m=n\n",
    "s=0\n",
    "while(n>0):\n",
    "    d=n%10\n",
    "    f=1\n",
    "    while(d>0):  #factorial\n",
    "        f*=d\n",
    "        d=d-1\n",
    "    s=s+f\n",
    "    n=n//10\n",
    "if(m==s):\n",
    "    print(\"It is Strong no.\")\n",
    "else:\n",
    "    print(\"It is not a Strong no.\")"
   ]
  },
  {
   "cell_type": "markdown",
   "id": "d9855cf8-d3ba-401f-9301-0ce20869ed93",
   "metadata": {},
   "source": [
    "# WAP in python to find that no. is armstrong no. or not\n",
    "an Armstrong number is a number that equals the sum of its digits, each raised to a power"
   ]
  },
  {
   "cell_type": "code",
   "execution_count": 14,
   "id": "633c4a1f-8ad4-417e-a4e1-be6dc7dd2184",
   "metadata": {},
   "outputs": [
    {
     "name": "stdin",
     "output_type": "stream",
     "text": [
      "Enter digit:  153\n"
     ]
    },
    {
     "name": "stdout",
     "output_type": "stream",
     "text": [
      "It is Armstrong no.\n"
     ]
    }
   ],
   "source": [
    "n=input(\"Enter digit: \")\n",
    "l=len(n)\n",
    "n=int(n)\n",
    "m=n\n",
    "s=0\n",
    "while(n>0):\n",
    "    b=n%10\n",
    "    s+=(b**3)\n",
    "    n=n//10\n",
    "if(m==s):\n",
    "    print(\"It is Armstrong no.\")\n",
    "else:\n",
    "    print(\"It is not a Armstrong no.\")"
   ]
  }
 ],
 "metadata": {
  "kernelspec": {
   "display_name": "Python 3 (ipykernel)",
   "language": "python",
   "name": "python3"
  },
  "language_info": {
   "codemirror_mode": {
    "name": "ipython",
    "version": 3
   },
   "file_extension": ".py",
   "mimetype": "text/x-python",
   "name": "python",
   "nbconvert_exporter": "python",
   "pygments_lexer": "ipython3",
   "version": "3.11.7"
  }
 },
 "nbformat": 4,
 "nbformat_minor": 5
}
